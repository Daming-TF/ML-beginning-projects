{
 "cells": [
  {
   "cell_type": "markdown",
   "metadata": {},
   "source": [
    "## 使用词袋法对示例文本进行特征向量化"
   ]
  },
  {
   "cell_type": "code",
   "execution_count": 3,
   "metadata": {
    "collapsed": true
   },
   "outputs": [],
   "source": [
    "sent1 = 'The cat is walking in the bedroom.'\n",
    "sent2 = 'A dog was running across the kitchen.'"
   ]
  },
  {
   "cell_type": "code",
   "execution_count": 4,
   "metadata": {
    "collapsed": false
   },
   "outputs": [
    {
     "name": "stdout",
     "output_type": "stream",
     "text": [
      "[[0 1 1 0 1 1 0 0 2 1 0]\n",
      " [1 0 0 1 0 0 1 1 1 0 1]]\n"
     ]
    }
   ],
   "source": [
    "# 用 CountVectorizer 进行特征量化\n",
    "from sklearn.feature_extraction.text import CountVectorizer\n",
    "count_vec = CountVectorizer()\n",
    "\n",
    "sentences = [sent1, sent2]\n",
    "\n",
    "# 输出特征向量化后的表示\n",
    "print(count_vec.fit_transform(sentences).toarray())"
   ]
  },
  {
   "cell_type": "code",
   "execution_count": 5,
   "metadata": {
    "collapsed": false
   },
   "outputs": [
    {
     "name": "stdout",
     "output_type": "stream",
     "text": [
      "['across', 'bedroom', 'cat', 'dog', 'in', 'is', 'kitchen', 'running', 'the', 'walking', 'was']\n"
     ]
    }
   ],
   "source": [
    "# 输出向量各个维度的特征含义\n",
    "print(count_vec.get_feature_names())"
   ]
  },
  {
   "cell_type": "code",
   "execution_count": 10,
   "metadata": {
    "collapsed": false
   },
   "outputs": [
    {
     "name": "stdout",
     "output_type": "stream",
     "text": [
      "[[0.         0.37729199 0.37729199 0.         0.37729199 0.37729199\n",
      "  0.         0.         0.53689271 0.37729199 0.        ]\n",
      " [0.4261596  0.         0.         0.4261596  0.         0.\n",
      "  0.4261596  0.4261596  0.30321606 0.         0.4261596 ]]\n"
     ]
    },
    {
     "name": "stderr",
     "output_type": "stream",
     "text": [
      "/anaconda/lib/python3.6/site-packages/sklearn/feature_extraction/text.py:1089: FutureWarning: Conversion of the second argument of issubdtype from `float` to `np.floating` is deprecated. In future, it will be treated as `np.float64 == np.dtype(float).type`.\n",
      "  if hasattr(X, 'dtype') and np.issubdtype(X.dtype, np.float):\n"
     ]
    }
   ],
   "source": [
    "# 用 TfidfVectorizer 进行特征量化\n",
    "from sklearn.feature_extraction.text import TfidfVectorizer\n",
    "tfidf_vec = TfidfVectorizer()\n",
    "\n",
    "print(tfidf_vec.fit_transform(sentences).toarray())"
   ]
  },
  {
   "cell_type": "code",
   "execution_count": 11,
   "metadata": {
    "collapsed": false
   },
   "outputs": [
    {
     "name": "stdout",
     "output_type": "stream",
     "text": [
      "['across', 'bedroom', 'cat', 'dog', 'in', 'is', 'kitchen', 'running', 'the', 'walking', 'was']\n"
     ]
    }
   ],
   "source": [
    "print(tfidf_vec.get_feature_names())"
   ]
  },
  {
   "cell_type": "markdown",
   "metadata": {},
   "source": [
    "## 使用 NLTK 对示例文本进行语言学分析"
   ]
  },
  {
   "cell_type": "code",
   "execution_count": 6,
   "metadata": {
    "collapsed": false
   },
   "outputs": [
    {
     "name": "stdout",
     "output_type": "stream",
     "text": [
      "['The', 'cat', 'is', 'walking', 'in', 'the', 'bedroom', '.']\n"
     ]
    }
   ],
   "source": [
    "import nltk\n",
    "\n",
    "# 对句子进行词汇分割和正则化\n",
    "tokens_1 = nltk.word_tokenize(sent1)\n",
    "print(tokens_1)"
   ]
  },
  {
   "cell_type": "code",
   "execution_count": 7,
   "metadata": {
    "collapsed": false
   },
   "outputs": [
    {
     "name": "stdout",
     "output_type": "stream",
     "text": [
      "['A', 'dog', 'was', 'running', 'across', 'the', 'kitchen', '.']\n"
     ]
    }
   ],
   "source": [
    "tokens_2 = nltk.word_tokenize(sent2)\n",
    "print(tokens_2)"
   ]
  },
  {
   "cell_type": "code",
   "execution_count": 8,
   "metadata": {
    "collapsed": false
   },
   "outputs": [
    {
     "name": "stdout",
     "output_type": "stream",
     "text": [
      "['I', \"'m\", 'a', 'boy', '.']\n"
     ]
    }
   ],
   "source": [
    "# 有些情况，如 I'm 要分割为 I 和 'm\n",
    "tokens_3 = nltk.word_tokenize('I\\'m a boy.')\n",
    "print(tokens_3)"
   ]
  },
  {
   "cell_type": "code",
   "execution_count": 9,
   "metadata": {
    "collapsed": false
   },
   "outputs": [
    {
     "name": "stdout",
     "output_type": "stream",
     "text": [
      "['.', 'The', 'bedroom', 'cat', 'in', 'is', 'the', 'walking']\n"
     ]
    }
   ],
   "source": [
    "# 整理两句的词表，并按照 ASCII 的排序输出\n",
    "vocab_1 = sorted(set(tokens_1))\n",
    "\n",
    "print(vocab_1)"
   ]
  },
  {
   "cell_type": "code",
   "execution_count": 10,
   "metadata": {
    "collapsed": false
   },
   "outputs": [
    {
     "name": "stdout",
     "output_type": "stream",
     "text": [
      "['.', 'A', 'across', 'dog', 'kitchen', 'running', 'the', 'was']\n"
     ]
    }
   ],
   "source": [
    "vocab_2 = sorted(set(tokens_2))\n",
    "\n",
    "print(vocab_2)"
   ]
  },
  {
   "cell_type": "code",
   "execution_count": 13,
   "metadata": {
    "collapsed": false
   },
   "outputs": [
    {
     "name": "stdout",
     "output_type": "stream",
     "text": [
      "['the', 'cat', 'is', 'walk', 'in', 'the', 'bedroom', '.']\n"
     ]
    }
   ],
   "source": [
    "# 初始化 stemmer 寻找各个词汇最原始的词根\n",
    "stemmer = nltk.stem.PorterStemmer()\n",
    "stem_1 = [stemmer.stem(t) for t in tokens_1]\n",
    "print(stem_1)"
   ]
  },
  {
   "cell_type": "code",
   "execution_count": 14,
   "metadata": {
    "collapsed": false
   },
   "outputs": [
    {
     "name": "stdout",
     "output_type": "stream",
     "text": [
      "['A', 'dog', 'wa', 'run', 'across', 'the', 'kitchen', '.']\n"
     ]
    }
   ],
   "source": [
    "stem_2 = [stemmer.stem(t) for t in tokens_2]\n",
    "print(stem_2)"
   ]
  },
  {
   "cell_type": "code",
   "execution_count": 17,
   "metadata": {
    "collapsed": false
   },
   "outputs": [
    {
     "name": "stdout",
     "output_type": "stream",
     "text": [
      "[('The', 'DT'), ('cat', 'NN'), ('is', 'VBZ'), ('walking', 'VBG'), ('in', 'IN'), ('the', 'DT'), ('bedroom', 'NN'), ('.', '.')]\n"
     ]
    }
   ],
   "source": [
    "# 初始化词性标注器，对每个词汇进行词性标注\n",
    "pos_tag_1 = nltk.tag.pos_tag(tokens_1)\n",
    "print(pos_tag_1)"
   ]
  },
  {
   "cell_type": "code",
   "execution_count": 18,
   "metadata": {
    "collapsed": false
   },
   "outputs": [
    {
     "name": "stdout",
     "output_type": "stream",
     "text": [
      "[('A', 'DT'), ('dog', 'NN'), ('was', 'VBD'), ('running', 'VBG'), ('across', 'IN'), ('the', 'DT'), ('kitchen', 'NN'), ('.', '.')]\n"
     ]
    }
   ],
   "source": [
    "pos_tag_2 = nltk.tag.pos_tag(tokens_2)\n",
    "print(pos_tag_2)"
   ]
  }
 ],
 "metadata": {
  "kernelspec": {
   "display_name": "Python 3",
   "language": "python",
   "name": "python3"
  },
  "language_info": {
   "codemirror_mode": {
    "name": "ipython",
    "version": 3
   },
   "file_extension": ".py",
   "mimetype": "text/x-python",
   "name": "python",
   "nbconvert_exporter": "python",
   "pygments_lexer": "ipython3",
   "version": "3.6.0"
  }
 },
 "nbformat": 4,
 "nbformat_minor": 2
}
